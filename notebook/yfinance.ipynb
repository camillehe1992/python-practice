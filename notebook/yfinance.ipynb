{
 "cells": [
  {
   "cell_type": "markdown",
   "metadata": {},
   "source": [
    "## 智能交易\n",
    "交易指的是购买和出售金融工具，如股票、债券、货币、商品或衍生品，目的是为了获利。期刊交易者整天都在查看不同的仪表板，试图找出是否买入或卖出的那一个完美决定。 这个自动化脚本可以帮助交易者和投资者很好地了解你想投资的任何股票。它使用Python的Prophet库，基于从雅虎财经获取的历史股票数据来预测近期的股票价格。"
   ]
  },
  {
   "cell_type": "markdown",
   "metadata": {},
   "source": [
    "### 1. 导入Streamlit库用于创建Web应用"
   ]
  },
  {
   "cell_type": "code",
   "execution_count": 20,
   "metadata": {},
   "outputs": [],
   "source": [
    "import streamlit as st\n",
    "\n",
    "# 导入date用于处理日期\n",
    "from datetime import date\n",
    "\n",
    "# 导入yfinance库，用于从Yahoo Finance获取股票数据\n",
    "import yfinance as yf\n",
    "\n",
    "# 导入Prophet库，用于进行时间序列预测\n",
    "from prophet import Prophet\n",
    "\n",
    "# 导入Prophet的Plotly绘图接口和Plotly图形对象\n",
    "from prophet.plot import plot_plotly\n",
    "from plotly import graph_objs as go"
   ]
  },
  {
   "cell_type": "markdown",
   "metadata": {},
   "source": [
    "### 2. 设置预测的起始日期和当前日期"
   ]
  },
  {
   "cell_type": "code",
   "execution_count": 21,
   "metadata": {},
   "outputs": [],
   "source": [
    "START = \"2024-01-01\"\n",
    "TODAY = date.today().strftime(\"%Y-%m-%d\")"
   ]
  },
  {
   "cell_type": "markdown",
   "metadata": {},
   "source": [
    "### 3. 使用Streamlit创建应用标题"
   ]
  },
  {
   "cell_type": "code",
   "execution_count": 22,
   "metadata": {},
   "outputs": [],
   "source": [
    "st.title('StockForecast App')\n",
    "# 设置一个选择框，让用户选择股票\n",
    "stocks = ('MSFT', \"TSLA\", 'GOOG', 'AAPL', \"NVDA\")\n",
    "selected_stock = st.selectbox('Select dataset for prediction', stocks)"
   ]
  },
  {
   "cell_type": "markdown",
   "metadata": {},
   "source": [
    "### 4. 创建一个滑动条，让用户选择预测的年数，范围从1到4年"
   ]
  },
  {
   "cell_type": "code",
   "execution_count": 23,
   "metadata": {},
   "outputs": [],
   "source": [
    "n_years = st.slider('Years of prediction:', 1, 4)\n",
    "period = n_years * 365"
   ]
  },
  {
   "cell_type": "markdown",
   "metadata": {},
   "source": [
    "### 5. 定义一个缓存函数，用于加载股票数据，避免每次会话重新加载"
   ]
  },
  {
   "cell_type": "code",
   "execution_count": 24,
   "metadata": {},
   "outputs": [
    {
     "name": "stderr",
     "output_type": "stream",
     "text": [
      "2024-05-10 17:39:01.862 No runtime found, using MemoryCacheStorageManager\n",
      "2024-05-10 17:39:01.863 No runtime found, using MemoryCacheStorageManager\n",
      "[*********************100%%**********************]  1 of 1 completed\n"
     ]
    }
   ],
   "source": [
    "@st.cache_data\n",
    "def load_data(ticker):\n",
    "\tdata = yf.download(ticker, START, TODAY)  # 从Yahoo Finance下载股票数据\n",
    "\tdata.reset_index(inplace=True)  # 重置DataFrame的索引\n",
    "\treturn data\n",
    "\n",
    "# 显示数据加载状态\n",
    "data_load_state = st.text('Loading data...')\n",
    "data = load_data(selected_stock)  # 调用函数加载数据\n",
    "data_load_state.text('Loading data... done!')  # 更新加载状态\n",
    "\n",
    "# 显示原始数据的最后几行\n",
    "st.subheader('Raw data')\n",
    "st.write(data.tail())"
   ]
  },
  {
   "cell_type": "markdown",
   "metadata": {},
   "source": [
    "### 6. 定义函数，绘制原始数据的开盘和收盘价格"
   ]
  },
  {
   "cell_type": "code",
   "execution_count": 27,
   "metadata": {},
   "outputs": [],
   "source": [
    "def plot_raw_data():\n",
    "\tfig = go.Figure()\n",
    "\tfig.add_trace(go.Scatter(x=data['Date'], y=data['Open'], name=\"stock_open\"))\n",
    "\tfig.add_trace(go.Scatter(x=data['Date'], y=data['Close'], name=\"stock_close\"))\n",
    "\tfig.layout.update(title_text='Time Series data with Rangeslider', xaxis_rangeslider_visible=True)\n",
    "\tst.plotly_chart(fig)\n",
    "\n",
    "plot_raw_data()"
   ]
  },
  {
   "cell_type": "markdown",
   "metadata": {},
   "source": [
    "### 7. 使用Prophet进行预测"
   ]
  },
  {
   "cell_type": "code",
   "execution_count": 26,
   "metadata": {},
   "outputs": [
    {
     "name": "stderr",
     "output_type": "stream",
     "text": [
      "17:39:04 - cmdstanpy - INFO - Chain [1] start processing\n",
      "17:39:05 - cmdstanpy - INFO - Chain [1] done processing\n",
      "/Users/heyachao/anaconda3/lib/python3.11/site-packages/prophet/plot.py:228: FutureWarning:\n",
      "\n",
      "The behavior of DatetimeProperties.to_pydatetime is deprecated, in a future version this will return a Series containing python datetime objects instead of an ndarray. To retain the old behavior, call `np.array` on the result\n",
      "\n"
     ]
    }
   ],
   "source": [
    "df_train = data[['Date','Close']]\n",
    "df_train = df_train.rename(columns={\"Date\": \"ds\", \"Close\": \"y\"})\n",
    "m = Prophet()\n",
    "m.fit(df_train)\n",
    "\n",
    "future = m.make_future_dataframe(periods=period)\n",
    "forecast = m.predict(future)\n",
    "\n",
    "# 显示并绘制预测数据\n",
    "st.subheader('Forecast data')\n",
    "st.write(forecast.tail())\n",
    "st.write(f'Forecast plot for {n_years} years')\n",
    "\n",
    "fig1 = plot_plotly(m, forecast)\n",
    "st.plotly_chart(fig1)\n",
    "\n",
    "# 显示预测组件\n",
    "st.write(\"Forecast components\")\n",
    "fig2 = m.plot_components(forecast)\n",
    "st.write(fig2)"
   ]
  }
 ],
 "metadata": {
  "kernelspec": {
   "display_name": "base",
   "language": "python",
   "name": "python3"
  },
  "language_info": {
   "codemirror_mode": {
    "name": "ipython",
    "version": 3
   },
   "file_extension": ".py",
   "mimetype": "text/x-python",
   "name": "python",
   "nbconvert_exporter": "python",
   "pygments_lexer": "ipython3",
   "version": "3.11.9"
  }
 },
 "nbformat": 4,
 "nbformat_minor": 2
}
