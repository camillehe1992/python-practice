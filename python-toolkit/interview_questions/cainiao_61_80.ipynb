{
 "metadata": {
  "language_info": {
   "codemirror_mode": {
    "name": "ipython",
    "version": 3
   },
   "file_extension": ".py",
   "mimetype": "text/x-python",
   "name": "python",
   "nbconvert_exporter": "python",
   "pygments_lexer": "ipython3",
   "version": "3.7.9-final"
  },
  "orig_nbformat": 2,
  "kernelspec": {
   "name": "python3",
   "display_name": "Python 3",
   "language": "python"
  }
 },
 "nbformat": 4,
 "nbformat_minor": 2,
 "cells": [
  {
   "source": [
    "61.打印出杨辉三角形"
   ],
   "cell_type": "markdown",
   "metadata": {}
  },
  {
   "cell_type": "code",
   "execution_count": 5,
   "metadata": {},
   "outputs": [
    {
     "output_type": "stream",
     "name": "stdout",
     "text": [
      "[1]\n[1, 1]\n[1, 1]\n[1, 2, 1]\n[1, 3, 3, 1]\n[1, 4, 6, 4, 1]\n[1, 5, 10, 10, 5, 1]\n[1, 6, 15, 20, 15, 6, 1]\n[1, 7, 21, 35, 35, 21, 7, 1]\n[1, 8, 28, 56, 70, 56, 28, 8, 1]\n"
     ]
    }
   ],
   "source": [
    "def yanghui(row:int):\n",
    "    if row == 0:\n",
    "        return [1]\n",
    "    elif row == 1:\n",
    "        return [1, 1]\n",
    "    else:\n",
    "        current_row = []\n",
    "        current_row.append(1)\n",
    "        pre_row = yanghui(row - 1)\n",
    "        for i in range(row - 2):\n",
    "            current_row.append(pre_row[i] + pre_row[i+1])\n",
    "        current_row.append(1)\n",
    "        return current_row\n",
    "\n",
    "for row in range(10):\n",
    "    print(yanghui(row))"
   ]
  },
  {
   "source": [
    "68.有 n 个整数，使其前面各数顺序向后移 m 个位置，最后 m 个数变成最前面的 m 个数"
   ],
   "cell_type": "markdown",
   "metadata": {}
  },
  {
   "cell_type": "code",
   "execution_count": 10,
   "metadata": {},
   "outputs": [
    {
     "output_type": "execute_result",
     "data": {
      "text/plain": [
       "[45, 34, 2, 2, 8, 6, 1, 78]"
      ]
     },
     "metadata": {},
     "execution_count": 10
    }
   ],
   "source": [
    "def move_list(n_list:list, m:int):\n",
    "    if m > len(n_list):\n",
    "        raise Exception('m cannot greater than list lenght')\n",
    "    back_part = n_list[-m:]\n",
    "    front_part = n_list[:len(n_list) - m]\n",
    "    return back_part + front_part\n",
    "\n",
    "a = [2, 8, 6, 1, 78, 45, 34, 2]\n",
    "move_list(a, 3)"
   ]
  },
  {
   "source": [
    "69.有n个人围成一圈，顺序排号。从第一个人开始报数（从1到3报数），凡报到3的人退出圈子，问最后留下的是原来第几号的那位"
   ],
   "cell_type": "markdown",
   "metadata": {}
  },
  {
   "cell_type": "code",
   "execution_count": 29,
   "metadata": {},
   "outputs": [
    {
     "output_type": "stream",
     "name": "stdout",
     "text": [
      "[1, 2, 3, 4, 5, 6, 7, 8, 9, 10, 11, 12, 13, 14, 15, 16, 17, 18, 19, 20, 21, 22, 23, 24, 25, 26, 27, 28, 29, 30, 31, 32, 33, 34]\n10\n"
     ]
    }
   ],
   "source": [
    "def sepcial_func_69(n:int):\n",
    "    people = []\n",
    "    for i in range(n):\n",
    "        people.append(i + 1)\n",
    "    print(people)\n",
    "    i = 0\n",
    "    k = 0\n",
    "    m = 0\n",
    " \n",
    "    while m < n - 1:\n",
    "        if people[i] != 0 : k += 1\n",
    "        if k == 3:\n",
    "            people[i] = 0\n",
    "            k = 0\n",
    "            m += 1\n",
    "        i += 1\n",
    "        if i == n : i = 0\n",
    " \n",
    "    i = 0\n",
    "    while people[i] == 0: i += 1\n",
    "    print(people[i])\n",
    "        \n",
    "       \n",
    "sepcial_func_69(34)"
   ]
  },
  {
   "cell_type": "code",
   "execution_count": 74,
   "metadata": {
    "tags": []
   },
   "outputs": [
    {
     "output_type": "stream",
     "name": "stdout",
     "text": [
      "Initialize linklist:\n1 2 3 4 5 6 7 8 9 10 11 12 13 14 15 16 17 18 19 20 21 22 23 24 25 26 27 28 29 30 31 32 33 34 \n[34, 33, 32, 31, 30, 29, 28, 27, 26, 25, 24, 23, 22, 21, 20, 19, 18, 17, 16, 15, 14, 13, 12, 11, 10, 9, 8, 7, 6, 5, 4, 3, 2, 1]\n"
     ]
    }
   ],
   "source": [
    "class Node(object):\n",
    "    # 节点\n",
    "    def __init__(self, elem):\n",
    "        self.next = None\n",
    "        self.elem = elem\n",
    "\n",
    "class SingleListLink(object):\n",
    "    \"\"\"单向循环链表\"\"\"\n",
    "    def __init__(self):\n",
    "        self.head = None\n",
    "    \n",
    "    def is_empty(self):\n",
    "        \"\"\"判断链表是否为空\"\"\"\n",
    "        return self.head == None\n",
    "\n",
    "    def length(self):\n",
    "        \"\"\"返回链表的长度\"\"\"\n",
    "        # 如果链表为空，返回长度0\n",
    "        if self.is_empty():\n",
    "            return 0\n",
    "        count = 1\n",
    "        cur = self.head\n",
    "        while cur.next != self.head:\n",
    "            count += 1\n",
    "            cur = cur.next\n",
    "        return count\n",
    "\n",
    "    def travel(self):\n",
    "        \"\"\"遍历链表\"\"\"\n",
    "        if self.is_empty():\n",
    "            return\n",
    "        cur = self.head\n",
    "        print(cur.elem, end=' ')\n",
    "        while cur.next != self.head:\n",
    "            cur = cur.next\n",
    "            print(cur.elem, end=' ')\n",
    "        print()\n",
    "\n",
    "    def reverse_travel(self):\n",
    "        \"\"\"反向遍历链表\"\"\"\n",
    "        if self.is_empty():\n",
    "            return\n",
    "        cur = self.head\n",
    "        linklist = []\n",
    "        while cur.next != self.head:\n",
    "            linklist.append(cur.elem)\n",
    "            cur = cur.next\n",
    "        linklist.append(cur.elem)\n",
    "        linklist.reverse()\n",
    "        print(linklist)\n",
    "    \n",
    "    def add(self, item):\n",
    "        \"\"\"链表头部添加元素\"\"\"\n",
    "        node = Node(item)\n",
    "        if self.is_empty():\n",
    "            self.head = node\n",
    "            node.next = self.head\n",
    "        else:\n",
    "            # 添加的节点指向head\n",
    "            node.next = self.head\n",
    "            # 移到链表尾部，将尾部节点的next指向node\n",
    "            cur = self.head\n",
    "            while cur.next != self.head:\n",
    "                cur = cur.next\n",
    "            cur.next = self.head\n",
    "            # head指向添加node的\n",
    "            self.head = node\n",
    "\n",
    "    def append(self, item):\n",
    "        \"\"\"链表尾部添加元素\"\"\"\n",
    "        node = Node(item)\n",
    "        if self.is_empty():\n",
    "            self.head = node\n",
    "            node.next = self.head\n",
    "        else:\n",
    "            # 移到链表尾部\n",
    "            cur = self.head\n",
    "            while cur.next != self.head:\n",
    "                cur = cur.next\n",
    "            # 将尾节点指向node\n",
    "            cur.next = node\n",
    "            # 将node指向头节点head\n",
    "            node.next = self.head\n",
    "\n",
    "    def insert(self, pos, item):\n",
    "        \"\"\"在指定位置添加节点\"\"\"\n",
    "        if pos <= 0:\n",
    "            self.add(item)\n",
    "        elif pos > (self.length() - 1):\n",
    "            self.append(item)\n",
    "        else:\n",
    "            node = Node(item)\n",
    "            cur = self.head\n",
    "            count = 0\n",
    "            # 移动到指定位置的前一个位置\n",
    "            while count < (pos - 1):\n",
    "                count += 1\n",
    "                cur = cur.next\n",
    "            node.next = cur.next\n",
    "            cur.next = node\n",
    "\n",
    "    def remove(self, item):\n",
    "        \"\"\"删除一个节点\"\"\"\n",
    "        # 若链表为空，则直接返回\n",
    "        if self.is_empty():\n",
    "            return\n",
    "        # 将cur指向头节点\n",
    "        cur = self.head\n",
    "        pre = None\n",
    "\n",
    "        # 若头节点的元素就是要查找的元素item\n",
    "        if cur.elem == item:\n",
    "            # 如果链表不止一个节点\n",
    "            if cur.next != self.head:\n",
    "                # 先找到尾节点，将尾节点的next指向第二个节点\n",
    "                while cur.next != self.head:\n",
    "                    cur = cur.next\n",
    "                # cur指向了尾节点\n",
    "                cur.next = self.head.next\n",
    "                self.head = self.head.next\n",
    "            else:\n",
    "                # 链表只有一个节点\n",
    "                self.head = None\n",
    "        else:\n",
    "            pre = self.head\n",
    "            # 第一个节点不是要删除的\n",
    "            while cur.next != self.head:\n",
    "                # 找到了要删除的元素\n",
    "                if cur.elem == item:\n",
    "                    # 删除\n",
    "                    pre.next = cur.next\n",
    "                    return\n",
    "                else:\n",
    "                    pre = cur\n",
    "                    cur = cur.next\n",
    "            # cur 指向尾节点\n",
    "            if cur.elem == item:\n",
    "                # 尾部删除\n",
    "                pre.next = cur.next\n",
    "\n",
    "    def search(self, item):\n",
    "        \"\"\"查找节点是否存在\"\"\"\n",
    "        if self.is_empty():\n",
    "            return False\n",
    "        cur = self.head\n",
    "        if cur.elem == item:\n",
    "            return True\n",
    "        while cur.next != self.head:\n",
    "            cur = cur.next\n",
    "            if cur.elem == item:\n",
    "                return True\n",
    "        return False\n",
    "\n",
    "def sepcial_func_69_2(n:int):\n",
    "    linklist = SingleListLink()\n",
    "    for i in range(n):\n",
    "        linklist.append(i + 1)\n",
    "    print('Initialize linklist:')\n",
    "    linklist.travel()\n",
    "    linklist.reverse_travel()\n",
    "    \n",
    "    # counter = 1\n",
    "    # cur = linklist.head\n",
    "    # while True:\n",
    "    #     if counter % 3 == 0:\n",
    "    #         linklist.remove(cur.elem)\n",
    "    #         if linklist.length() == 1:\n",
    "    #             print('The last one: ', linklist.head.elem)\n",
    "    #             break\n",
    "    #         counter = 0\n",
    "    #     counter += 1\n",
    "    #     cur = cur.next\n",
    "\n",
    "\n",
    "sepcial_func_69_2(34)"
   ]
  },
  {
   "cell_type": "code",
   "execution_count": null,
   "metadata": {},
   "outputs": [],
   "source": []
  }
 ]
}