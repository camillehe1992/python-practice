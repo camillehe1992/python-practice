{
 "metadata": {
  "language_info": {
   "codemirror_mode": {
    "name": "ipython",
    "version": 3
   },
   "file_extension": ".py",
   "mimetype": "text/x-python",
   "name": "python",
   "nbconvert_exporter": "python",
   "pygments_lexer": "ipython3",
   "version": "3.7.9-final"
  },
  "orig_nbformat": 2,
  "kernelspec": {
   "name": "python3",
   "display_name": "Python 3",
   "language": "python"
  }
 },
 "nbformat": 4,
 "nbformat_minor": 2,
 "cells": [
  {
   "source": [
    "1.有四个数字：1、2、3、4，能组成多少个互不相同且无重复数字的三位数？各是多少？"
   ],
   "cell_type": "markdown",
   "metadata": {}
  },
  {
   "cell_type": "code",
   "execution_count": 3,
   "metadata": {},
   "outputs": [
    {
     "output_type": "stream",
     "name": "stdout",
     "text": [
      "(1, 2, 3)\n(1, 2, 4)\n(1, 3, 2)\n(1, 3, 4)\n(1, 4, 2)\n(1, 4, 3)\n(2, 1, 3)\n(2, 1, 4)\n(2, 3, 1)\n(2, 3, 4)\n(2, 4, 1)\n(2, 4, 3)\n(3, 1, 2)\n(3, 1, 4)\n(3, 2, 1)\n(3, 2, 4)\n(3, 4, 1)\n(3, 4, 2)\n(4, 1, 2)\n(4, 1, 3)\n(4, 2, 1)\n(4, 2, 3)\n(4, 3, 1)\n(4, 3, 2)\n"
     ]
    }
   ],
   "source": [
    "def special_nums(n):\n",
    "    for i in range(1, n+1):\n",
    "        for j in range(1, n+1):\n",
    "            for k in range (1, n+1):\n",
    "                if i!=k and i!=j and j!=k:\n",
    "                    yield (i, j , k)\n",
    "\n",
    "for num in special_nums(4):\n",
    "    print(num)"
   ]
  },
  {
   "cell_type": "code",
   "execution_count": 11,
   "metadata": {},
   "outputs": [
    {
     "output_type": "stream",
     "name": "stdout",
     "text": [
      "(1, 2, 3)\n(1, 2, 4)\n(1, 3, 2)\n(1, 3, 4)\n(1, 4, 2)\n(1, 4, 3)\n(2, 1, 3)\n(2, 1, 4)\n(2, 3, 1)\n(2, 3, 4)\n(2, 4, 1)\n(2, 4, 3)\n(3, 1, 2)\n(3, 1, 4)\n(3, 2, 1)\n(3, 2, 4)\n(3, 4, 1)\n(3, 4, 2)\n(4, 1, 2)\n(4, 1, 3)\n(4, 2, 1)\n(4, 2, 3)\n(4, 3, 1)\n(4, 3, 2)\n"
     ]
    }
   ],
   "source": [
    "# itertools.permutations 连续返回由 iterable 元素生成长度为 r 的排列。\n",
    "from itertools import permutations\n",
    "for num in permutations([1, 2, 3, 4], r=3):\n",
    "    print(num)"
   ]
  },
  {
   "source": [
    "2.企业发放的奖金根据利润提成。利润(I)低于或等于10万元时，奖金可提10%；利润高于10万元，低于20万元时，低于10万元的部分按10%提成，高于10万元的部分，可提成7.5%；20万到40万之间时，高于20万元的部分，可提成5%；40万到60万之间时高于40万元的部分，可提成3%；60万到100万之间时，高于60万元的部分，可提成1.5%，高于100万元时，超过100万元的部分按1%提成，从键盘输入当月利润I，求应发放奖金总数？"
   ],
   "cell_type": "markdown",
   "metadata": {}
  },
  {
   "cell_type": "code",
   "execution_count": 8,
   "metadata": {},
   "outputs": [
    {
     "output_type": "execute_result",
     "data": {
      "text/plain": [
       "11500.0"
      ]
     },
     "metadata": {},
     "execution_count": 8
    }
   ],
   "source": [
    "def caculate_bonus(profit):\n",
    "    boundary = [1000000,600000,400000,200000,100000,0]\n",
    "    rate = [0.01,0.015,0.03,0.05,0.075,0.1]\n",
    "    bonus = 0\n",
    "    for idx in range(0, len(boundary)):\n",
    "        if profit > boundary[idx]:\n",
    "            bonus += (profit - boundary[idx]) * rate[idx]\n",
    "            profit = boundary[idx]\n",
    "    return bonus\n",
    "\n",
    "caculate_bonus(120000)"
   ]
  },
  {
   "cell_type": "code",
   "execution_count": 13,
   "metadata": {},
   "outputs": [
    {
     "output_type": "execute_result",
     "data": {
      "text/plain": [
       "11500.0"
      ]
     },
     "metadata": {},
     "execution_count": 13
    }
   ],
   "source": [
    "from functools import reduce\n",
    "def caculate_bonus(profit):\n",
    "    boundary = [1000000,600000,400000,200000,100000,0]\n",
    "    rate = [0.01,0.015,0.03,0.05,0.075,0.1]\n",
    "    bonus = 0\n",
    "    for idx in range(0, len(boundary)):\n",
    "        if profit > boundary[idx]:\n",
    "            yield (profit - boundary[idx]) * rate[idx] \n",
    "            profit = boundary[idx]\n",
    "   \n",
    "reduce(lambda x,y:x+y, caculate_bonus(120000))"
   ]
  },
  {
   "source": [
    "3.一个整数，它加上100后是一个完全平方数，再加上168又是一个完全平方数，请问该数是多少？"
   ],
   "cell_type": "markdown",
   "metadata": {}
  },
  {
   "cell_type": "code",
   "execution_count": 16,
   "metadata": {},
   "outputs": [
    {
     "output_type": "stream",
     "name": "stdout",
     "text": [
      "-99\n21\n261\n1581\n"
     ]
    }
   ],
   "source": [
    "def amazing_num():\n",
    "    for i in range(1, 85):\n",
    "        if 168 % i == 0:\n",
    "            j = 168 / i\n",
    "            if i > j and (i+j) % 2 == 0 and (i-j) % 2 == 0:\n",
    "                m = (i+j) / 2\n",
    "                n = (i-j) / 2\n",
    "                yield int(n * n - 100)\n",
    "for num in amazing_num():\n",
    "    print(num)"
   ]
  },
  {
   "source": [
    "4.输入某年某月某日，判断这一天是这一年的第几天？"
   ],
   "cell_type": "markdown",
   "metadata": {}
  },
  {
   "cell_type": "code",
   "execution_count": 20,
   "metadata": {},
   "outputs": [
    {
     "output_type": "execute_result",
     "data": {
      "text/plain": [
       "364"
      ]
     },
     "metadata": {},
     "execution_count": 20
    }
   ],
   "source": [
    "from datetime import date\n",
    "def day_of_year(y, m, d):\n",
    "    return date(y, m, d).timetuple().tm_yday\n",
    "\n",
    "day_of_year(2020, 12, 29)"
   ]
  },
  {
   "source": [
    "5.输入三个整数x,y,z，请把这三个数由小到大输出。"
   ],
   "cell_type": "markdown",
   "metadata": {}
  },
  {
   "cell_type": "code",
   "execution_count": 25,
   "metadata": {},
   "outputs": [
    {
     "output_type": "execute_result",
     "data": {
      "text/plain": [
       "[2, 3, 4]"
      ]
     },
     "metadata": {},
     "execution_count": 25
    }
   ],
   "source": [
    "sorted([3, 2, 4])"
   ]
  },
  {
   "source": [
    "6.斐波那契数列。"
   ],
   "cell_type": "markdown",
   "metadata": {}
  },
  {
   "cell_type": "code",
   "execution_count": 29,
   "metadata": {
    "tags": []
   },
   "outputs": [
    {
     "output_type": "stream",
     "name": "stdout",
     "text": [
      "0\n1\n1\n2\n3\n5\n8\n13\n21\n34\n"
     ]
    }
   ],
   "source": [
    "def fibonacci(num):\n",
    "    n, a, b = 0, 0, 1\n",
    "    while n < num:\n",
    "        yield a\n",
    "        a, b = b, a + b\n",
    "        n += 1\n",
    "\n",
    "for n in fibonacci(10):\n",
    "    print(n)"
   ]
  },
  {
   "source": [
    "7.将一个列表的数据复制到另一个列表中。"
   ],
   "cell_type": "markdown",
   "metadata": {}
  },
  {
   "cell_type": "code",
   "execution_count": 35,
   "metadata": {},
   "outputs": [
    {
     "output_type": "execute_result",
     "data": {
      "text/plain": [
       "[4, 3, 6, 1, 0, 8]"
      ]
     },
     "metadata": {},
     "execution_count": 35
    }
   ],
   "source": [
    "a = [4, 3, 6, 1, 0, 8]\n",
    "a_copy = a[:]\n",
    "a_copy"
   ]
  },
  {
   "source": [
    "8.输出 9*9 乘法口诀表。"
   ],
   "cell_type": "markdown",
   "metadata": {}
  },
  {
   "cell_type": "code",
   "execution_count": 39,
   "metadata": {},
   "outputs": [
    {
     "output_type": "stream",
     "name": "stdout",
     "text": [
      "\n1*1=1 \n2*1=2 2*2=4 \n3*1=3 3*2=6 3*3=9 \n4*1=4 4*2=8 4*3=12 4*4=16 \n5*1=5 5*2=10 5*3=15 5*4=20 5*5=25 \n6*1=6 6*2=12 6*3=18 6*4=24 6*5=30 6*6=36 \n7*1=7 7*2=14 7*3=21 7*4=28 7*5=35 7*6=42 7*7=49 \n8*1=8 8*2=16 8*3=24 8*4=32 8*5=40 8*6=48 8*7=56 8*8=64 \n9*1=9 9*2=18 9*3=27 9*4=36 9*5=45 9*6=54 9*7=63 9*8=72 9*9=81 "
     ]
    }
   ],
   "source": [
    "for i in range(1, 10):\n",
    "    print()\n",
    "    for j in range(1, i+1):\n",
    "        print('%d*%d=%d' % (i, j, i*j),end=\" \")"
   ]
  },
  {
   "source": [
    "9.暂停一秒输出。"
   ],
   "cell_type": "markdown",
   "metadata": {}
  },
  {
   "cell_type": "code",
   "execution_count": 42,
   "metadata": {},
   "outputs": [
    {
     "output_type": "stream",
     "name": "stdout",
     "text": [
      "2020-12-29 17:29:52.677857\n",
      "2020-12-29 17:29:53.678422\n"
     ]
    }
   ],
   "source": [
    "import time\n",
    "from datetime import datetime\n",
    "print(datetime.now())\n",
    "time.sleep(1)\n",
    "print(datetime.now())"
   ]
  },
  {
   "source": [
    "10.暂停一秒输出，并格式化当前时间。"
   ],
   "cell_type": "markdown",
   "metadata": {}
  },
  {
   "cell_type": "code",
   "execution_count": 43,
   "metadata": {},
   "outputs": [
    {
     "output_type": "stream",
     "name": "stdout",
     "text": [
      "2020-12-29 17:31:14\n",
      "2020-12-29 17:31:15\n"
     ]
    }
   ],
   "source": [
    "import time\n",
    "print(time.strftime('%Y-%m-%d %H:%M:%S',time.localtime(time.time())))\n",
    "time.sleep(1)\n",
    "print(time.strftime('%Y-%m-%d %H:%M:%S',time.localtime(time.time())))"
   ]
  },
  {
   "source": [
    "11.古典问题：有一对兔子，从出生后第3个月起每个月都生一对兔子，小兔子长到第三个月后每个月又生一对兔子，假如兔子都不死，问每个月的兔子总数为多少？"
   ],
   "cell_type": "markdown",
   "metadata": {}
  },
  {
   "cell_type": "code",
   "execution_count": 49,
   "metadata": {
    "tags": []
   },
   "outputs": [
    {
     "output_type": "stream",
     "name": "stdout",
     "text": [
      "1 1 2 3  \n5 8 13 21  \n34 55 89 144  \n233 377 610 987  \n1597 2584 4181 6765  \n"
     ]
    }
   ],
   "source": [
    "def rabbit_nums(month):\n",
    "    n, a, b = 0, 0, 1\n",
    "    while n < month:\n",
    "        yield b\n",
    "        a, b = b, a + b\n",
    "        n = n + 1\n",
    "\n",
    "for n in rabbit_nums(20):\n",
    "    print(n, end=' ')\n",
    "    if n % 3 == 0:\n",
    "        print(' ')\n",
    "    "
   ]
  },
  {
   "source": [
    "12.判断101-200之间有多少个素数，并输出所有素数。"
   ],
   "cell_type": "markdown",
   "metadata": {}
  },
  {
   "cell_type": "code",
   "execution_count": 50,
   "metadata": {},
   "outputs": [
    {
     "output_type": "stream",
     "name": "stdout",
     "text": [
      "101\n103\n107\n109\n113\n127\n131\n137\n139\n149\n151\n157\n163\n167\n173\n179\n181\n191\n193\n197\n199\n"
     ]
    }
   ],
   "source": [
    "from math import sqrt\n",
    "def is_prime(num):\n",
    "    for i in range(2, int(sqrt(num)) + 1):\n",
    "        if num % i == 0:\n",
    "            return False\n",
    "    return True\n",
    "\n",
    "for num in range(101, 201):\n",
    "    if is_prime(num):\n",
    "        print(num)"
   ]
  },
  {
   "source": [
    "13.打印出所有的\"水仙花数\"，所谓\"水仙花数\"是指一个三位数，其各位数字立方和等于该数本身。例如：153是一个\"水仙花数\"，因为153=1的三次方＋5的三次方＋3的三次方。"
   ],
   "cell_type": "markdown",
   "metadata": {}
  },
  {
   "cell_type": "code",
   "execution_count": 69,
   "metadata": {},
   "outputs": [
    {
     "output_type": "stream",
     "name": "stdout",
     "text": [
      "153 370 371 407 "
     ]
    }
   ],
   "source": [
    "def narcissistic_nums():\n",
    "    for num in range(100, 1000):\n",
    "        i = num // 100\n",
    "        j = num // 10 % 10\n",
    "        k = num % 10\n",
    "        if num == i ** 3 + j ** 3 + k ** 3:\n",
    "            print(num, end=' ')\n",
    "\n",
    "narcissistic_nums()\n"
   ]
  },
  {
   "cell_type": "code",
   "execution_count": 70,
   "metadata": {},
   "outputs": [
    {
     "output_type": "stream",
     "name": "stdout",
     "text": [
      "153 370 371 407 "
     ]
    }
   ],
   "source": [
    "def narcissistic_nums_2():\n",
    "    for num in range(100, 1000):\n",
    "        if num == sum([int(s)**3 for s in str(num)]):\n",
    "            print(num, end=' ')\n",
    "\n",
    "narcissistic_nums_2()"
   ]
  },
  {
   "source": [
    "14.将一个正整数分解质因数。例如：输入90,打印出 [ 2,3,3,5 ]"
   ],
   "cell_type": "markdown",
   "metadata": {}
  },
  {
   "cell_type": "code",
   "execution_count": 106,
   "metadata": {},
   "outputs": [
    {
     "output_type": "stream",
     "name": "stdout",
     "text": [
      "2\n3\n3\n5\n"
     ]
    }
   ],
   "source": [
    "from math import floor\n",
    "def reduceNum(n):\n",
    "    if not isinstance(n, int) or n <= 0:\n",
    "        print ('请输入一个正确的数字 !')\n",
    "        exit(0)\n",
    "    while n > 1:\n",
    "        for index in range(2, n + 1):\n",
    "            if n % index == 0:\n",
    "                n //= index # n 等于 n//index\n",
    "                yield index\n",
    "                break\n",
    "\n",
    "for n in reduceNum(90):\n",
    "    print(n)"
   ]
  },
  {
   "source": [
    "15.利用条件运算符的嵌套来完成此题：学习成绩>=90分的同学用A表示，60-89分之间的用B表示，60分以下的用C表示。"
   ],
   "cell_type": "markdown",
   "metadata": {}
  },
  {
   "cell_type": "code",
   "execution_count": 108,
   "metadata": {},
   "outputs": [
    {
     "output_type": "stream",
     "name": "stdout",
     "text": [
      "A\nB\nC\n"
     ]
    }
   ],
   "source": [
    "def score_grade(score:int):\n",
    "    if score >= 90:\n",
    "        return 'A'\n",
    "    elif 60 <= score < 90:\n",
    "        return 'B'\n",
    "    else:\n",
    "        return 'C'\n",
    "\n",
    "print(score_grade(98))\n",
    "print(score_grade(78))\n",
    "print(score_grade(58))"
   ]
  },
  {
   "cell_type": "code",
   "execution_count": 114,
   "metadata": {},
   "outputs": [
    {
     "output_type": "stream",
     "name": "stdout",
     "text": [
      "A\nB\nC\n"
     ]
    }
   ],
   "source": [
    "def score_grade_2(score:int):\n",
    "    return 'A' if score >= 90 else ('B' if 60<=score<90 else 'C')\n",
    "\n",
    "\n",
    "print(score_grade_2(98))\n",
    "print(score_grade_2(78))\n",
    "print(score_grade_2(58))"
   ]
  },
  {
   "source": [
    "16.输出指定格式的日期。"
   ],
   "cell_type": "markdown",
   "metadata": {}
  },
  {
   "cell_type": "code",
   "execution_count": 118,
   "metadata": {},
   "outputs": [
    {
     "output_type": "stream",
     "name": "stdout",
     "text": [
      "30/12/2020\n2020-12-30\n12/30/2020\n"
     ]
    }
   ],
   "source": [
    "from datetime import date\n",
    "print(date.today().strftime('%d/%m/%Y'))\n",
    "print(date.today().strftime('%Y-%m-%d'))\n",
    "print(date.today().strftime('%m/%d/%Y'))"
   ]
  },
  {
   "source": [
    "17.输入一行字符，分别统计出其中英文字母、空格、数字和其它字符的个数。"
   ],
   "cell_type": "markdown",
   "metadata": {}
  },
  {
   "cell_type": "code",
   "execution_count": 121,
   "metadata": {},
   "outputs": [
    {
     "output_type": "stream",
     "name": "stdout",
     "text": [
      "char = 23,space = 8,digit = 18,others = 1\n"
     ]
    }
   ],
   "source": [
    "import string\n",
    "def summary_chars(line):\n",
    "    letters, space, digit, others = 0, 0, 0, 0\n",
    "    for char in line:\n",
    "        if char == '\\n':\n",
    "            break\n",
    "        if char.isalpha():\n",
    "            letters += 1\n",
    "        elif char.isspace():\n",
    "            space += 1\n",
    "        elif char.isdigit():\n",
    "            digit += 1\n",
    "        else:\n",
    "            others += 1\n",
    "    print('char = %d,space = %d,digit = %d,others = %d' % (letters,space,digit,others))\n",
    " \n",
    "summary_chars('fdfds df if w9ir40q8r4h3n 9i4rq rf94n422q0 403 4 =')"
   ]
  },
  {
   "source": [
    "18.求s=a+aa+aaa+aaaa+aa...a的值，其中a是一个数字。例如2+22+222+2222+22222(此时共有5个数相加)，几个数相加由键盘控制"
   ],
   "cell_type": "markdown",
   "metadata": {}
  },
  {
   "cell_type": "code",
   "execution_count": 129,
   "metadata": {},
   "outputs": [
    {
     "output_type": "stream",
     "name": "stdout",
     "text": [
      "4936\n"
     ]
    }
   ],
   "source": [
    "def special_func_18(digit:int, times:int):\n",
    "    if digit < 0 or digit > 9:\n",
    "        raise Exception('digit must in 1-9')\n",
    "    if times < 1:\n",
    "        raise Exception('times must be greater than 0')\n",
    "    sum = 0\n",
    "    for n in range(1, times+1):\n",
    "        sum += int('1' * n) * digit\n",
    "    return sum\n",
    "\n",
    "print(special_func_18(4, 4))\n"
   ]
  },
  {
   "source": [
    "19.一个数如果恰好等于它的因子之和，这个数就称为\"完数\"。例如6=1＋2＋3.编程找出1000以内的所有完数。"
   ],
   "cell_type": "markdown",
   "metadata": {}
  },
  {
   "cell_type": "code",
   "execution_count": 141,
   "metadata": {
    "tags": []
   },
   "outputs": [
    {
     "output_type": "stream",
     "name": "stdout",
     "text": [
      "6\n[1, 2, 3]\n28\n[1, 2, 4, 7, 14]\n496\n[1, 2, 4, 8, 16, 31, 62, 124, 248]\n"
     ]
    }
   ],
   "source": [
    "def perfect_number():\n",
    "    for n in range(2, 1001):\n",
    "        f_list = []\n",
    "        for i in range(1, n):\n",
    "            if n % i == 0:\n",
    "                f_list.append(i)\n",
    "        \n",
    "        if n == sum(f_list):\n",
    "            print(n)\n",
    "            print(f_list)\n",
    "\n",
    "perfect_number()\n"
   ]
  },
  {
   "source": [
    "20.一球从100米高度自由落下，每次落地后反跳回原高度的一半；再落下，求它在第10次落地时，共经过多少米？第10次反弹多高？"
   ],
   "cell_type": "markdown",
   "metadata": {}
  },
  {
   "cell_type": "code",
   "execution_count": 145,
   "metadata": {},
   "outputs": [
    {
     "output_type": "execute_result",
     "data": {
      "text/plain": [
       "[299.70703125, 0.09765625]"
      ]
     },
     "metadata": {},
     "execution_count": 145
    }
   ],
   "source": [
    "def special_func_20(times:int):\n",
    "    tour, height = 0.0, 100.0\n",
    "    for time in range(1, times+1):\n",
    "        tour += height + height / 2\n",
    "        height /= 2\n",
    "    return [tour, height]\n",
    "\n",
    "special_func_20(10)\n"
   ]
  },
  {
   "cell_type": "code",
   "execution_count": null,
   "metadata": {},
   "outputs": [],
   "source": []
  }
 ]
}