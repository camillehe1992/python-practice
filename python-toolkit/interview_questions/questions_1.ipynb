{
 "metadata": {
  "language_info": {
   "codemirror_mode": {
    "name": "ipython",
    "version": 3
   },
   "file_extension": ".py",
   "mimetype": "text/x-python",
   "name": "python",
   "nbconvert_exporter": "python",
   "pygments_lexer": "ipython3",
   "version": "3.7.9-final"
  },
  "orig_nbformat": 2,
  "kernelspec": {
   "name": "python3",
   "display_name": "Python 3",
   "language": "python"
  }
 },
 "nbformat": 4,
 "nbformat_minor": 2,
 "cells": [
  {
   "source": [
    "1.如何用一行代码生成 [1, 3, 5, 7, 9, ...,19]"
   ],
   "cell_type": "markdown",
   "metadata": {}
  },
  {
   "cell_type": "code",
   "execution_count": 2,
   "metadata": {},
   "outputs": [
    {
     "output_type": "execute_result",
     "data": {
      "text/plain": [
       "[1, 3, 5, 7, 9, 11, 13, 15, 17, 19]"
      ]
     },
     "metadata": {},
     "execution_count": 2
    }
   ],
   "source": [
    "nums = [2*i+1 for i in range(10)]\n",
    "nums"
   ]
  },
  {
   "cell_type": "code",
   "execution_count": 4,
   "metadata": {},
   "outputs": [
    {
     "output_type": "execute_result",
     "data": {
      "text/plain": [
       "[1, 3, 5, 7, 9, 11, 13, 15, 17, 19]"
      ]
     },
     "metadata": {},
     "execution_count": 4
    }
   ],
   "source": [
    "nums = [i for i in range(1, 20) if i%2 == 1]\n",
    "nums"
   ]
  },
  {
   "source": [
    "2.写一个等差数列，产生一个首项为8，公差为12，末项不大于100的列表"
   ],
   "cell_type": "markdown",
   "metadata": {}
  },
  {
   "cell_type": "code",
   "execution_count": 5,
   "metadata": {},
   "outputs": [
    {
     "output_type": "execute_result",
     "data": {
      "text/plain": [
       "[8, 20, 32, 44, 56, 68, 80, 92]"
      ]
     },
     "metadata": {},
     "execution_count": 5
    }
   ],
   "source": [
    "a = list(range(8, 100, 12))\n",
    "a"
   ]
  },
  {
   "source": [
    "3.一行代码求1到1000内的整数和"
   ],
   "cell_type": "markdown",
   "metadata": {}
  },
  {
   "cell_type": "code",
   "execution_count": 8,
   "metadata": {},
   "outputs": [
    {
     "output_type": "execute_result",
     "data": {
      "text/plain": [
       "499500"
      ]
     },
     "metadata": {},
     "execution_count": 8
    }
   ],
   "source": [
    "num_sum = sum(range(1, 1000))\n",
    "num_sum"
   ]
  },
  {
   "cell_type": "code",
   "execution_count": 10,
   "metadata": {},
   "outputs": [
    {
     "output_type": "execute_result",
     "data": {
      "text/plain": [
       "499500"
      ]
     },
     "metadata": {},
     "execution_count": 10
    }
   ],
   "source": [
    "from functools import reduce\n",
    "num_sum = reduce(lambda x, y : x+y, range(1, 1000))\n",
    "num_sum"
   ]
  },
  {
   "source": [
    "4.字典按value排序并返回新字典"
   ],
   "cell_type": "markdown",
   "metadata": {}
  },
  {
   "cell_type": "code",
   "execution_count": 14,
   "metadata": {},
   "outputs": [
    {
     "output_type": "execute_result",
     "data": {
      "text/plain": [
       "[('b', 98), ('a', 100), ('c', 101)]"
      ]
     },
     "metadata": {},
     "execution_count": 14
    }
   ],
   "source": [
    "d = {'a': 100, 'b': 98, 'c': 101}\n",
    "sorted(d.items(), key=lambda x : x[1])"
   ]
  },
  {
   "source": [
    "5.打乱一个列表"
   ],
   "cell_type": "markdown",
   "metadata": {}
  },
  {
   "cell_type": "code",
   "execution_count": 15,
   "metadata": {},
   "outputs": [
    {
     "output_type": "execute_result",
     "data": {
      "text/plain": [
       "[7, 0, 4, 9, 6, 3, 8, 5, 1, 2]"
      ]
     },
     "metadata": {},
     "execution_count": 15
    }
   ],
   "source": [
    "import random\n",
    "nums = list(range(10))\n",
    "random.shuffle(nums)\n",
    "nums"
   ]
  },
  {
   "source": [
    "6.如何删除list里面的重复元素并保持顺序不变"
   ],
   "cell_type": "markdown",
   "metadata": {}
  },
  {
   "cell_type": "code",
   "execution_count": 22,
   "metadata": {},
   "outputs": [
    {
     "output_type": "execute_result",
     "data": {
      "text/plain": [
       "[1, 3, 9, 4, 2, 8, 0]"
      ]
     },
     "metadata": {},
     "execution_count": 22
    }
   ],
   "source": [
    "num_list = [1, 3, 9, 4, 2, 4, 1, 8, 0]\n",
    "def remove_dup(nums):\n",
    "    out = []\n",
    "    for n in nums:\n",
    "        if n not in out:\n",
    "            out.append(n)\n",
    "    return out\n",
    "remove_dup(num_list)"
   ]
  },
  {
   "source": [
    "7.字符串处理成字典"
   ],
   "cell_type": "markdown",
   "metadata": {}
  },
  {
   "cell_type": "code",
   "execution_count": 25,
   "metadata": {},
   "outputs": [
    {
     "output_type": "execute_result",
     "data": {
      "text/plain": [
       "{'a0': '10', 'a1': '20', 'a3': '15'}"
      ]
     },
     "metadata": {},
     "execution_count": 25
    }
   ],
   "source": [
    "string = 'a0:10|a1:20|a3:15'\n",
    "items = map(lambda x:x.split(':'), string.split('|'))\n",
    "str_dict = {item[0]:item[1] for item in items}\n",
    "str_dict"
   ]
  },
  {
   "source": [
    "8.找出两个列表的相同元素和不同元素"
   ],
   "cell_type": "markdown",
   "metadata": {}
  },
  {
   "cell_type": "code",
   "execution_count": 26,
   "metadata": {},
   "outputs": [
    {
     "output_type": "execute_result",
     "data": {
      "text/plain": [
       "{4, 9}"
      ]
     },
     "metadata": {},
     "execution_count": 26
    }
   ],
   "source": [
    "a_list = [2, 4, 9, 1, 0]\n",
    "b_list = [9, 4, 8, 5]\n",
    "a_set = set(a_list)\n",
    "b_set = set(b_list)\n",
    "inter = a_set.intersection(b_set)\n",
    "inter"
   ]
  },
  {
   "cell_type": "code",
   "execution_count": 28,
   "metadata": {},
   "outputs": [
    {
     "output_type": "execute_result",
     "data": {
      "text/plain": [
       "{0, 1, 2, 5, 8}"
      ]
     },
     "metadata": {},
     "execution_count": 28
    }
   ],
   "source": [
    "diff = a_set.difference(b_set).union(b_set.difference(a_set))\n",
    "diff"
   ]
  },
  {
   "source": [
    "9.输入一个日期，判断这一天是今年的哪一天"
   ],
   "cell_type": "markdown",
   "metadata": {}
  },
  {
   "cell_type": "code",
   "execution_count": 30,
   "metadata": {},
   "outputs": [
    {
     "output_type": "execute_result",
     "data": {
      "text/plain": [
       "363"
      ]
     },
     "metadata": {},
     "execution_count": 30
    }
   ],
   "source": [
    "from datetime import datetime\n",
    "def find_day_of_year(y, m, d):\n",
    "    return datetime(y, m, d).date().timetuple().tm_yday\n",
    "find_day_of_year(2020, 12, 28)"
   ]
  },
  {
   "source": [
    "10.遍历目录内的子目录，抓取zip文件"
   ],
   "cell_type": "markdown",
   "metadata": {}
  },
  {
   "cell_type": "code",
   "execution_count": 47,
   "metadata": {},
   "outputs": [
    {
     "output_type": "stream",
     "name": "stdout",
     "text": [
      "[]\n"
     ]
    }
   ],
   "source": [
    "import os\n",
    "def find_files(dir, ext='.zip'):\n",
    "    res = []\n",
    "    for root, dirs, files in os.walk(dir):\n",
    "        for f_name in files:\n",
    "            name, suf = os.path.splitext(f_name)\n",
    "            if suf == ext:\n",
    "                res.append(os.path.join(root, f_name))\n",
    "    return res\n",
    "# os.getcwd() current dir\n",
    "zip_files = find_files(os.getcwd())\n",
    "print(zip_files)"
   ]
  },
  {
   "source": [
    "11.处理大于pc内存的大文件"
   ],
   "cell_type": "markdown",
   "metadata": {}
  },
  {
   "cell_type": "code",
   "execution_count": 49,
   "metadata": {},
   "outputs": [],
   "source": [
    "import pandas as pd\n",
    "def read_bigfile(filename, sep='', chunksize=5):\n",
    "    reader = pd.read_csv(filename, sep=sep, chunksize=chunksize)\n",
    "    while True:\n",
    "        try:\n",
    "            yield reader.get_chunk()\n",
    "        except:\n",
    "            print('Read finish!')\n",
    "            break"
   ]
  },
  {
   "source": [
    "12.统计一个单词本里面频率最高的10个单词"
   ],
   "cell_type": "markdown",
   "metadata": {}
  },
  {
   "cell_type": "code",
   "execution_count": null,
   "metadata": {},
   "outputs": [],
   "source": []
  },
  {
   "source": [
    "13.反转整数，例如-12345变成-54321"
   ],
   "cell_type": "markdown",
   "metadata": {}
  },
  {
   "cell_type": "code",
   "execution_count": null,
   "metadata": {},
   "outputs": [],
   "source": []
  },
  {
   "cell_type": "code",
   "execution_count": 65,
   "metadata": {},
   "outputs": [
    {
     "output_type": "execute_result",
     "data": {
      "text/plain": [
       "[('indexmodules', 0),\n",
       " ('next', 0),\n",
       " ('previous', 0),\n",
       " ('Python', 0),\n",
       " ('English', 0),\n",
       " ('3', 0),\n",
       " ('7', 0),\n",
       " ('9', 0),\n",
       " ('Documentation', 0),\n",
       " ('Setup', 0)]"
      ]
     },
     "metadata": {},
     "execution_count": 65
    }
   ],
   "source": [
    "from collections import Counter, defaultdict\n",
    "import re\n",
    "\n",
    "d = defaultdict(int)\n",
    "\n",
    "def read_lines(fname):\n",
    "    with open(fname, 'r', encoding='utf-8') as rf:\n",
    "        for line in rf:\n",
    "            yield line\n",
    "\n",
    "def process(line):\n",
    "    # 匹配非数字字母下划线并用空格替换\n",
    "    for word in re.sub('\\W', \" \", line).split():\n",
    "        d[word] + 1\n",
    "\n",
    "for line in read_lines('words.txt'):\n",
    "    process(line)\n",
    "\n",
    "top_10 = Counter(d).most_common(10)\n",
    "top_10"
   ]
  },
  {
   "source": [
    "13.反转一个整数，例如-12345变成-54321"
   ],
   "cell_type": "markdown",
   "metadata": {}
  },
  {
   "cell_type": "code",
   "execution_count": 3,
   "metadata": {},
   "outputs": [
    {
     "output_type": "stream",
     "name": "stdout",
     "text": [
      "5\n-5\n-1\n301\n-54321\n"
     ]
    }
   ],
   "source": [
    "def reverse_int(x:int):\n",
    "    if -10 < x < 10:\n",
    "        return x\n",
    "    str_x = str(x)\n",
    "    return int('-' + str_x[1:][::-1]) if x < 0 else int(str_x[::-1])\n",
    "\n",
    "print(reverse_int(5))\n",
    "print(reverse_int(-5))\n",
    "print(reverse_int(-100))\n",
    "print(reverse_int(103))\n",
    "print(reverse_int(-12345))"
   ]
  }
 ]
}