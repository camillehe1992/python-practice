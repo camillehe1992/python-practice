{
 "metadata": {
  "language_info": {
   "codemirror_mode": {
    "name": "ipython",
    "version": 3
   },
   "file_extension": ".py",
   "mimetype": "text/x-python",
   "name": "python",
   "nbconvert_exporter": "python",
   "pygments_lexer": "ipython3",
   "version": "3.7.9-final"
  },
  "orig_nbformat": 2,
  "kernelspec": {
   "name": "python3",
   "display_name": "Python 3",
   "language": "python"
  }
 },
 "nbformat": 4,
 "nbformat_minor": 2,
 "cells": [
  {
   "source": [
    "21.猴子吃桃问题：猴子第一天摘下若干个桃子，当即吃了一半，还不瘾，又多吃了一个第二天早上又将剩下的桃子吃掉一半，又多吃了一个。以后每天早上都吃了前一天剩下的一半零一个。到第10天早上想再吃时，见只剩下一个桃子了。求第一天共摘了多少。\n",
    "f(n-1) = 2 *(f(n) + 1)"
   ],
   "cell_type": "markdown",
   "metadata": {}
  },
  {
   "cell_type": "code",
   "execution_count": 2,
   "metadata": {},
   "outputs": [
    {
     "output_type": "stream",
     "name": "stdout",
     "text": [
      "1534\n"
     ]
    }
   ],
   "source": [
    "def special_fuc_21(n):\n",
    "    if n == 1:\n",
    "        return 1\n",
    "    else:\n",
    "        return (special_fuc_21(n-1) + 1) * 2\n",
    "\n",
    "print(special_fuc_21(10))"
   ]
  },
  {
   "source": [
    "21.两个乒乓球队进行比赛，各出三人。甲队为a,b,c三人，乙队为x,y,z三人。已抽签决定比赛名单。有人向队员打听比赛的名单。a说他不和x比，c说他不和x,z比，请编程序找出三队赛手的名单。"
   ],
   "cell_type": "markdown",
   "metadata": {}
  },
  {
   "cell_type": "code",
   "execution_count": 51,
   "metadata": {},
   "outputs": [
    {
     "output_type": "stream",
     "name": "stdout",
     "text": [
      "[('az', 'bx', 'cy')]\n"
     ]
    }
   ],
   "source": [
    "from itertools import product, permutations\n",
    "\n",
    "team1 = ['a','b','c']\n",
    "team2 = ['x','y','z']\n",
    "\n",
    "list1 = list(permutations(item1))\n",
    "list2 = list(permutations(item2))\n",
    "\n",
    "def recombine(item):\n",
    "    item_list = []\n",
    "    for i in range(0, len(item[0])):\n",
    "        item_list.append(item[0][i] + item[1][i])\n",
    "    item_list.sort()\n",
    "    return tuple(item_list)\n",
    "\n",
    "def special_func_22():\n",
    "    order = []\n",
    "    for item in product(list1, list2):\n",
    "        new_item = recombine(item)\n",
    "        if 'ax' not in new_item and 'cx' not in new_item and 'cz' not in new_item and new_item not in order:\n",
    "            order.append(new_item)\n",
    "    return order\n",
    "             \n",
    "\n",
    "print(special_func_22())"
   ]
  },
  {
   "source": [
    "23.打印出菱形图案:"
   ],
   "cell_type": "markdown",
   "metadata": {}
  },
  {
   "cell_type": "code",
   "execution_count": 61,
   "metadata": {},
   "outputs": [
    {
     "output_type": "stream",
     "name": "stdout",
     "text": [
      "    *\n   ***\n  *****\n *******\n  *****\n   ***\n    *\n"
     ]
    }
   ],
   "source": [
    "def special_fuc_23(num):\n",
    "    for i in range(num):\n",
    "        for j in range(num-i):\n",
    "            print(' ', end='')\n",
    "        for k in range(i*2+1):\n",
    "            print('*', end='')\n",
    "        print()\n",
    "    for i in range(num-1):\n",
    "        for j in range(i+2):\n",
    "            print(' ', end='')\n",
    "        for k in range((num-i)*2-3):\n",
    "            print('*', end='')\n",
    "        print()\n",
    "\n",
    "special_fuc_23(4)"
   ]
  },
  {
   "source": [
    "24.有一分数序列：2/1，3/2，5/3，8/5，13/8，21/13...求出这个数列的前20项之和。"
   ],
   "cell_type": "markdown",
   "metadata": {}
  },
  {
   "cell_type": "code",
   "execution_count": 65,
   "metadata": {},
   "outputs": [
    {
     "output_type": "execute_result",
     "data": {
      "text/plain": [
       "32.66026079864164"
      ]
     },
     "metadata": {},
     "execution_count": 65
    }
   ],
   "source": [
    "class Point:\n",
    "    def __init__(self, numerator=2.0, denominator=1.0, sum=0.0):\n",
    "        self.numerator = numerator\n",
    "        self.denominator = denominator\n",
    "        self.sum = self.numerator / self.denominator + sum\n",
    "        \n",
    "\n",
    "def special_func_24(n):\n",
    "    if n == 1:\n",
    "        return Point()\n",
    "    else:\n",
    "        pre_point = special_func_24(n-1)\n",
    "        return Point(\n",
    "            numerator=pre_point.numerator + pre_point.denominator,\n",
    "            denominator=pre_point.numerator,\n",
    "            sum=pre_point.sum\n",
    "        )\n",
    "\n",
    "special_func_24(20).sum"
   ]
  },
  {
   "source": [
    "25.求1+2!+3!+...+20!的和。"
   ],
   "cell_type": "markdown",
   "metadata": {}
  },
  {
   "cell_type": "code",
   "execution_count": 69,
   "metadata": {},
   "outputs": [
    {
     "output_type": "execute_result",
     "data": {
      "text/plain": [
       "(20, 2561327494111820313)"
      ]
     },
     "metadata": {},
     "execution_count": 69
    }
   ],
   "source": [
    "from functools import reduce\n",
    "def special_func_25(n):\n",
    "    if n == 1:\n",
    "        return (1, 1)\n",
    "    else:\n",
    "        multi = reduce(lambda x,y:x*y, range(1,n+1))\n",
    "        return (n, special_func_25(n-1)[1] + multi)\n",
    "\n",
    "special_func_25(20)"
   ]
  },
  {
   "source": [
    "26.利用递归方法求5!。"
   ],
   "cell_type": "markdown",
   "metadata": {}
  },
  {
   "cell_type": "code",
   "execution_count": 70,
   "metadata": {},
   "outputs": [
    {
     "output_type": "execute_result",
     "data": {
      "text/plain": [
       "120"
      ]
     },
     "metadata": {},
     "execution_count": 70
    }
   ],
   "source": [
    "def special_func_26(n):\n",
    "    if n == 1:\n",
    "        return 1\n",
    "    else:\n",
    "        return special_func_26(n-1) * n\n",
    "\n",
    "special_func_26(5)"
   ]
  },
  {
   "source": [
    "27.利用递归函数调用方式，将所输入的5个字符，以相反顺序打印出来"
   ],
   "cell_type": "markdown",
   "metadata": {}
  },
  {
   "cell_type": "code",
   "execution_count": 71,
   "metadata": {},
   "outputs": [
    {
     "output_type": "execute_result",
     "data": {
      "text/plain": [
       "'dlrow olleh'"
      ]
     },
     "metadata": {},
     "execution_count": 71
    }
   ],
   "source": [
    "def special_func_27(chars:str):\n",
    "    if len(chars) == 1:\n",
    "        return chars[0]\n",
    "    else:\n",
    "        return special_func_27(chars[1:]) + chars[0]\n",
    "\n",
    "special_func_27('hello world')"
   ]
  },
  {
   "source": [
    "29.有5个人坐在一起，问第五个人多少岁？他说比第4个人大2岁。问第4个人岁数，他说比第3个人大2岁。问第三个人，又说比第2人大两岁。问第2个人，说比第一个人大两岁。最后问第一个人，他说是10岁。请问第五个人多大？\n",
    "\n",
    "程序分析：利用递归的方法，递归分为回推和递推两个阶段。要想知道第五个人岁数，需知道第四人的岁数，依次类推，推到第一人（10岁），再往回推。"
   ],
   "cell_type": "markdown",
   "metadata": {}
  },
  {
   "cell_type": "code",
   "execution_count": 72,
   "metadata": {},
   "outputs": [
    {
     "output_type": "execute_result",
     "data": {
      "text/plain": [
       "18"
      ]
     },
     "metadata": {},
     "execution_count": 72
    }
   ],
   "source": [
    "def special_func_28(n:int):\n",
    "    if n == 1:\n",
    "        return 10\n",
    "    else:\n",
    "        return special_func_28(n-1) + 2\n",
    "\n",
    "special_func_28(5)"
   ]
  },
  {
   "source": [
    "30.给一个不多于5位的正整数，要求：一、求它是几位数，二、逆序打印出各位数字。"
   ],
   "cell_type": "markdown",
   "metadata": {}
  },
  {
   "cell_type": "code",
   "execution_count": 77,
   "metadata": {},
   "outputs": [
    {
     "output_type": "stream",
     "name": "stdout",
     "text": [
      "len: 5\n37654\n"
     ]
    }
   ],
   "source": [
    "def special_func_29(n:int):\n",
    "    if n < 0 or n > 99999:\n",
    "        raise Exception('please provide a valid number')\n",
    "    str_n = str(n)\n",
    "    print('len: %d' % len(str_n))\n",
    "    print(int(str_n[::-1]))\n",
    "\n",
    "special_func_29(45673)\n",
    "    "
   ]
  },
  {
   "source": [
    "30.一个5位数，判断它是不是回文数。即12321是回文数，个位与万位相同，十位与千位相同"
   ],
   "cell_type": "markdown",
   "metadata": {}
  },
  {
   "cell_type": "code",
   "execution_count": 82,
   "metadata": {},
   "outputs": [
    {
     "output_type": "stream",
     "name": "stdout",
     "text": [
      "False\nTrue\n"
     ]
    }
   ],
   "source": [
    "def special_func_30(n:int):\n",
    "    if n < 0 or n > 99999:\n",
    "        raise Exception('please provide a valid number')\n",
    "    str_n = str(n)\n",
    "    for i in range(int(len(str_n)/2)):\n",
    "        if str_n[i] != str_n[-i-1]:\n",
    "            return False\n",
    "    return True\n",
    "\n",
    "print(special_func_30(12456))\n",
    "print(special_func_30(34543))"
   ]
  },
  {
   "source": [
    "31.请输入星期几的第一个字母来判断一下是星期几，如果第一个字母一样，则继续判断第二个字母。"
   ],
   "cell_type": "markdown",
   "metadata": {}
  },
  {
   "cell_type": "code",
   "execution_count": 83,
   "metadata": {},
   "outputs": [
    {
     "output_type": "stream",
     "name": "stdout",
     "text": [
      "Friday\n"
     ]
    }
   ],
   "source": [
    "def special_func_31():\n",
    "    while True:\n",
    "        first = input('Enter a letter: ')\n",
    "        if first.lower() == 's':\n",
    "            second = input('Enter another letter: ')\n",
    "            if second.lower() == 'u':\n",
    "                print('Sunday')\n",
    "                break\n",
    "            elif second.lower() == 'a':\n",
    "                print('Saturday')\n",
    "                break\n",
    "            else:\n",
    "                print('error')\n",
    "        elif first.lower() == 't':\n",
    "            second = input('Enter another letter: ')\n",
    "            if second.lower() == 'h':\n",
    "                print('Thursday')\n",
    "                break\n",
    "            elif second.lower() == 'u':\n",
    "                print('Tuesday')\n",
    "                break\n",
    "            else:\n",
    "                print('error')\n",
    "        elif first.lower() == 'm':\n",
    "            print('Monday')\n",
    "            break\n",
    "        elif first.lower() == 'w':\n",
    "            print('Wednesday')\n",
    "            break\n",
    "        elif first.lower() == 'f':\n",
    "            print('Friday')\n",
    "            break\n",
    "        else:\n",
    "            print('error')\n",
    "\n",
    "special_func_31()"
   ]
  },
  {
   "source": [
    "35.文本颜色设置。"
   ],
   "cell_type": "markdown",
   "metadata": {}
  },
  {
   "cell_type": "code",
   "execution_count": 84,
   "metadata": {},
   "outputs": [
    {
     "output_type": "stream",
     "name": "stdout",
     "text": [
      "\u001b[93mWARNING\u001b[0m\n"
     ]
    }
   ],
   "source": [
    "class bcolors:\n",
    "    HEADER = '\\033[95m'\n",
    "    OKBLUE = '\\033[94m'\n",
    "    OKGREEN = '\\033[92m'\n",
    "    WARNING = '\\033[93m'\n",
    "    FAIL = '\\033[91m'\n",
    "    ENDC = '\\033[0m'\n",
    "    BOLD = '\\033[1m'\n",
    "    UNDERLINE = '\\033[4m'\n",
    "\n",
    "print(bcolors.WARNING + 'WARNING' + bcolors.ENDC)"
   ]
  },
  {
   "source": [
    "37.选择法排序"
   ],
   "cell_type": "markdown",
   "metadata": {}
  },
  {
   "cell_type": "code",
   "execution_count": 100,
   "metadata": {},
   "outputs": [
    {
     "output_type": "stream",
     "name": "stdout",
     "text": [
      "6 : [0, 2, 2, 3, 7, 8, 9, 10]\n"
     ]
    }
   ],
   "source": [
    "def sort_choice(nums:list):\n",
    "    len_list = len(nums)\n",
    "    for i in range(len_list-1):\n",
    "        min_idx = i\n",
    "        for j in range(i+1, len_list):\n",
    "            if nums[min_idx] > nums[j]:\n",
    "                min_idx = j\n",
    "        nums[i], nums[min_idx] = nums[min_idx], nums[i]\n",
    "    print('%d : %s' % (i, nums))\n",
    "\n",
    "\n",
    "sort_choice([3, 9, 2, 10, 8, 2, 0, 7])"
   ]
  },
  {
   "source": [
    "38.有一个已经排好序的数组。现输入一个数，要求按原来的规律将它插入数组中"
   ],
   "cell_type": "markdown",
   "metadata": {}
  },
  {
   "cell_type": "code",
   "execution_count": 107,
   "metadata": {},
   "outputs": [
    {
     "output_type": "execute_result",
     "data": {
      "text/plain": [
       "[0, 2, 2, 3, 5, 7, 8, 9, 10]"
      ]
     },
     "metadata": {},
     "execution_count": 107
    }
   ],
   "source": [
    "sorted_list = [0, 2, 2, 3, 7, 8, 9, 10]\n",
    "def insert_order(sorted_list:list, num:int):\n",
    "    if num >= sorted_list[-1]:\n",
    "        sorted_list.append(num)\n",
    "    else:\n",
    "        sorted_list.append(-1)\n",
    "        for i in range(len(sorted_list)-1):\n",
    "            if sorted_list[i] > num:\n",
    "                temp1 = sorted_list[i]\n",
    "                sorted_list[i] = num\n",
    "                for j in range(i+1, len(sorted_list)):\n",
    "                    temp2 = sorted_list[j]\n",
    "                    sorted_list[j] = temp1\n",
    "                    temp1 = temp2\n",
    "                break\n",
    "    return sorted_list\n",
    "\n",
    "insert_order(sorted_list, 5)"
   ]
  },
  {
   "cell_type": "code",
   "execution_count": null,
   "metadata": {},
   "outputs": [],
   "source": []
  }
 ]
}