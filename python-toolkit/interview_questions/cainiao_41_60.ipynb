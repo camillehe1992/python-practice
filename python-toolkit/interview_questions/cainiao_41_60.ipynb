{
 "metadata": {
  "language_info": {
   "codemirror_mode": {
    "name": "ipython",
    "version": 3
   },
   "file_extension": ".py",
   "mimetype": "text/x-python",
   "name": "python",
   "nbconvert_exporter": "python",
   "pygments_lexer": "ipython3",
   "version": "3.7.9-final"
  },
  "orig_nbformat": 2,
  "kernelspec": {
   "name": "python3",
   "display_name": "Python 3",
   "language": "python"
  }
 },
 "nbformat": 4,
 "nbformat_minor": 2,
 "cells": [
  {
   "source": [
    "51.学习使用按位与 & "
   ],
   "cell_type": "markdown",
   "metadata": {}
  },
  {
   "cell_type": "code",
   "execution_count": 1,
   "metadata": {},
   "outputs": [
    {
     "output_type": "stream",
     "name": "stdout",
     "text": [
      "a&b = 3\na&b = 3\n"
     ]
    }
   ],
   "source": [
    "a = 0x77                # 0111 0111  (16bit)\n",
    "b = a & 3               # 0000 0011 = 3\n",
    "print('a&b = %d'%b)     # 0000 0011\n",
    "b &= 7                  # 0000 0111 = 3\n",
    "print('a&b = %d'%b)     # 0000 0011\n"
   ]
  },
  {
   "source": [
    "52.学习使用按位或 | "
   ],
   "cell_type": "markdown",
   "metadata": {}
  },
  {
   "cell_type": "code",
   "execution_count": 2,
   "metadata": {},
   "outputs": [
    {
     "output_type": "stream",
     "name": "stdout",
     "text": [
      "a | b is 63\na | b is 63\n"
     ]
    }
   ],
   "source": [
    "a = 0o77                    # 111 111  (8bit)\n",
    "b = a | 3                   # 000 011\n",
    "print ('a | b is %d' % b)   # 111 111 = 63  \n",
    "b |= 7                      # 000 111 \n",
    "print ('a | b is %d' % b)   # 111 111 = 63"
   ]
  },
  {
   "source": [
    "53.学习使用按位异或 ^"
   ],
   "cell_type": "markdown",
   "metadata": {}
  },
  {
   "cell_type": "code",
   "execution_count": 3,
   "metadata": {},
   "outputs": [
    {
     "output_type": "stream",
     "name": "stdout",
     "text": [
      "The a ^ 3 = 60\nThe a ^ b = 59\n"
     ]
    }
   ],
   "source": [
    "a = 0o77                        # 111 111\n",
    "b = a ^ 3                       # 000 011\n",
    "print ('The a ^ 3 = %d' % b)    # 111 100 = 60\n",
    "b ^= 7                          # 000 111\n",
    "print ('The a ^ b = %d' % b)    # 111 011 = 59"
   ]
  },
  {
   "source": [
    "54.取一个整数a从右端开始的4〜7位"
   ],
   "cell_type": "markdown",
   "metadata": {}
  },
  {
   "cell_type": "code",
   "execution_count": 4,
   "metadata": {},
   "outputs": [
    {
     "output_type": "execute_result",
     "data": {
      "text/plain": [
       "0"
      ]
     },
     "metadata": {},
     "execution_count": 4
    }
   ],
   "source": [
    "def special_func_54(a:int): # 0000 1001\n",
    "    a_1 = a >> 4            # 0000 0000\n",
    "    c = ~(~0 << 4)          # 0000 1111\n",
    "    d = a_1 & c             # 0000 1111\n",
    "    return d\n",
    "    \n",
    "special_func_54(9)"
   ]
  },
  {
   "source": [
    "56-58.画图，学用circle画圆形"
   ],
   "cell_type": "markdown",
   "metadata": {}
  },
  {
   "cell_type": "code",
   "execution_count": 23,
   "metadata": {},
   "outputs": [],
   "source": [
    "from tkinter import *\n",
    "\n",
    "def draw_circle(canvas:Canvas):\n",
    "    k = 1\n",
    "    j = 1\n",
    "    for i in range(0,26):\n",
    "        canvas.create_oval(310 - k,250 - k,310 + k,250 + k, width=1)\n",
    "        k += j\n",
    "        j += 0.3\n",
    "\n",
    "def draw_lines(canvas:Canvas):\n",
    "    x0 = 663\n",
    "    y0 = 263\n",
    "    y1 = 275\n",
    "    x1 = 275\n",
    "    for i in range(19):\n",
    "        canvas.create_line(x0,y0,x0,y1, width=1, fill='red')\n",
    "        x0 = x0 - 5\n",
    "        y0 = y0 - 5\n",
    "        x1 = x1 + 5\n",
    "        y1 = y1 + 5\n",
    "\n",
    "def draw_rectangle(canvas:Canvas):\n",
    "    x0 = 450    # left\n",
    "    y0 = 450    # right\n",
    "    y1 = 462    # right\n",
    "    x1 = 462    # bottom\n",
    "    for i in range(19):\n",
    "        canvas.create_rectangle(x0,y0,x1,y1)\n",
    "        x0 -= 5\n",
    "        y0 -= 5\n",
    "        x1 += 5\n",
    "        y1 += 5\n",
    "\n",
    "def draw():\n",
    "    canvas = Canvas(width=800, height=600, bg='yellow')  \n",
    "    canvas.pack(expand=YES, fill=BOTH)                \n",
    "    \n",
    "    draw_circle(canvas)\n",
    "    draw_lines(canvas)\n",
    "    draw_rectangle(canvas)\n",
    "\n",
    "    mainloop()\n",
    "\n",
    "draw()"
   ]
  },
  {
   "cell_type": "code",
   "execution_count": null,
   "metadata": {},
   "outputs": [],
   "source": []
  }
 ]
}