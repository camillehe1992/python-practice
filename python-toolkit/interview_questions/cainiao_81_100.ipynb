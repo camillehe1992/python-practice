{
 "metadata": {
  "language_info": {
   "codemirror_mode": {
    "name": "ipython",
    "version": 3
   },
   "file_extension": ".py",
   "mimetype": "text/x-python",
   "name": "python",
   "nbconvert_exporter": "python",
   "pygments_lexer": "ipython3",
   "version": "3.7.9-final"
  },
  "orig_nbformat": 2,
  "kernelspec": {
   "name": "python3",
   "display_name": "Python 3",
   "language": "python"
  }
 },
 "nbformat": 4,
 "nbformat_minor": 2,
 "cells": [
  {
   "source": [
    "83.求0—7所能组成的奇数个数"
   ],
   "cell_type": "markdown",
   "metadata": {}
  },
  {
   "cell_type": "code",
   "execution_count": 2,
   "metadata": {},
   "outputs": [
    {
     "output_type": "stream",
     "name": "stdout",
     "text": [
      "4\n28\n224\n1792\n14336\n114688\n917504\n7340032\ntotal =  8388608\n"
     ]
    }
   ],
   "source": [
    "def get_nums(n:int):\n",
    "    if n == 1:\n",
    "        return 4\n",
    "    else:\n",
    "        return 7 * 4 * 8**(n-2)\n",
    "\n",
    "def special_func_83():\n",
    "    total = 0\n",
    "    for i in range(1,9):\n",
    "        temp = get_nums(i)\n",
    "        total += temp\n",
    "        print(temp)\n",
    "    print('total = ', total)\n",
    "\n",
    "special_func_83()"
   ]
  },
  {
   "source": [
    "95.字符串日期转换为易读的日期格式"
   ],
   "cell_type": "markdown",
   "metadata": {}
  },
  {
   "source": [
    "97.从键盘输入一些字符，逐个把它们写到磁盘文件上，直到输入一个 # 为止"
   ],
   "cell_type": "markdown",
   "metadata": {}
  },
  {
   "cell_type": "code",
   "execution_count": 4,
   "metadata": {},
   "outputs": [
    {
     "output_type": "stream",
     "name": "stdout",
     "text": [
      "thisi is a testthis is a another test#"
     ]
    }
   ],
   "source": [
    "from sys import stdout\n",
    "filename = 'file.txt'\n",
    "fp = open(filename, 'w')\n",
    "ch = input('Ennter some letters: ')\n",
    "while ch != '#':\n",
    "    fp.write(ch)\n",
    "    stdout.write(ch)\n",
    "    ch = input('')\n",
    "fp.close()"
   ]
  },
  {
   "cell_type": "code",
   "execution_count": null,
   "metadata": {},
   "outputs": [],
   "source": []
  }
 ]
}