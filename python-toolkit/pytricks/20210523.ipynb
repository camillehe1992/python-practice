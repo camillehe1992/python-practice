{
 "metadata": {
  "language_info": {
   "codemirror_mode": {
    "name": "ipython",
    "version": 3
   },
   "file_extension": ".py",
   "mimetype": "text/x-python",
   "name": "python",
   "nbconvert_exporter": "python",
   "pygments_lexer": "ipython3",
   "version": "3.7.9-final"
  },
  "orig_nbformat": 2,
  "kernelspec": {
   "name": "python379jvsc74a57bd08215cc3051061ed42b1b9dead346ca91c8deaafdb7a26fc1198cd6a833f81ada",
   "display_name": "Python 3.7.9 64-bit ('pylearn': conda)"
  }
 },
 "nbformat": 4,
 "nbformat_minor": 2,
 "cells": [
  {
   "source": [
    "1. measure the execution time of small bits of python code with timeit modules"
   ],
   "cell_type": "markdown",
   "metadata": {}
  },
  {
   "cell_type": "code",
   "execution_count": 9,
   "metadata": {},
   "outputs": [
    {
     "output_type": "stream",
     "name": "stdout",
     "text": [
      "0.25281619999998384\n",
      "0.20451179999997748\n",
      "0.15975440000005392\n"
     ]
    }
   ],
   "source": [
    "import timeit\n",
    "\n",
    "print(timeit.timeit('\"-\".join(str(n) for n in range(100))', number=10000))\n",
    "print(timeit.timeit('\"-\".join([str(n) for n in range(100)])', number=10000))\n",
    "print(timeit.timeit('\"-\".join(map(str, range(100)))', number=10000))"
   ]
  },
  {
   "source": [
    "2. sharthand for in-place value swapping"
   ],
   "cell_type": "markdown",
   "metadata": {}
  },
  {
   "cell_type": "code",
   "execution_count": 10,
   "metadata": {},
   "outputs": [
    {
     "output_type": "stream",
     "name": "stdout",
     "text": [
      "42\n23\n23\n42\n"
     ]
    }
   ],
   "source": [
    "a = 23\n",
    "b = 42\n",
    "# classic way\n",
    "tmp = a\n",
    "a = b\n",
    "b = tmp\n",
    "print(a)\n",
    "print(b)\n",
    "\n",
    "# short-hand way\n",
    "a, b = b, a\n",
    "print(a)\n",
    "print(b)"
   ]
  },
  {
   "source": [
    "3. \"is\" vs \"==\"\n",
    "\"is\" expressions evaluate to True if two variables point to the same object\n",
    "\"==\" evaluates to True if the objects referred to by the variables are equal"
   ],
   "cell_type": "markdown",
   "metadata": {}
  },
  {
   "cell_type": "code",
   "execution_count": 11,
   "metadata": {},
   "outputs": [
    {
     "output_type": "stream",
     "name": "stdout",
     "text": [
      "True\nTrue\nTrue\nFalse\n"
     ]
    }
   ],
   "source": [
    "a = [1, 2, 3]\n",
    "b = a\n",
    "print(a is b)\n",
    "print(a == b)\n",
    "\n",
    "c = list(a)\n",
    "print(a == c)\n",
    "print(a is c)"
   ]
  },
  {
   "source": [
    "4. Dicts can be used to emulate swith/case statements"
   ],
   "cell_type": "markdown",
   "metadata": {}
  },
  {
   "cell_type": "code",
   "execution_count": 14,
   "metadata": {},
   "outputs": [
    {
     "output_type": "stream",
     "name": "stdout",
     "text": [
      "16\n16\nNone\nNone\n"
     ]
    }
   ],
   "source": [
    "def dispatch_if(opt, x, y):\n",
    "    if opt == 'add':\n",
    "        return x+y\n",
    "    elif opt == 'sub':\n",
    "        return x-y\n",
    "    elif opt == 'mul':\n",
    "        return x*y\n",
    "    elif opt == 'div':\n",
    "        return x/y\n",
    "    else:\n",
    "        return None\n",
    "\n",
    "def dispatch_dict(opt, x, y):\n",
    "    return {\n",
    "        'add': lambda: x + y,\n",
    "        'sub': lambda: x - y,\n",
    "        'mul': lambda: x * y,\n",
    "        'div': lambda: x / y\n",
    "    }.get(opt, lambda: None)()\n",
    "\n",
    "print(dispatch_if('mul', 2, 8))\n",
    "print(dispatch_dict('mul', 2, 8))\n",
    "\n",
    "print(dispatch_if('unknow', 2, 8))\n",
    "print(dispatch_dict('unknow', 2, 8))"
   ]
  },
  {
   "cell_type": "code",
   "execution_count": null,
   "metadata": {},
   "outputs": [],
   "source": []
  }
 ]
}