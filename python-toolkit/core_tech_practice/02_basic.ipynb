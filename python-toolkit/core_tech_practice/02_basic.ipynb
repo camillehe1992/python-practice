{
 "metadata": {
  "language_info": {
   "codemirror_mode": {
    "name": "ipython",
    "version": 3
   },
   "file_extension": ".py",
   "mimetype": "text/x-python",
   "name": "python",
   "nbconvert_exporter": "python",
   "pygments_lexer": "ipython3",
   "version": "3.7.9-final"
  },
  "orig_nbformat": 2,
  "kernelspec": {
   "name": "python3",
   "display_name": "Python 3",
   "language": "python"
  }
 },
 "nbformat": 4,
 "nbformat_minor": 2,
 "cells": [
  {
   "cell_type": "code",
   "execution_count": 2,
   "metadata": {},
   "outputs": [
    {
     "output_type": "stream",
     "name": "stdout",
     "text": [
      "64\n48\n"
     ]
    }
   ],
   "source": [
    "# list and tuple\n",
    "l = [1, 2, 3]\n",
    "print(l.__sizeof__())\n",
    "tup = (1, 2, 3)\n",
    "print(tup.__sizeof__())"
   ]
  },
  {
   "cell_type": "code",
   "execution_count": 6,
   "metadata": {},
   "outputs": [
    {
     "output_type": "stream",
     "name": "stdout",
     "text": [
      "40\n72\n72\n72\n72\n104\n"
     ]
    }
   ],
   "source": [
    "# 列表是动态的，需存储指针。对应int型，8字节。\n",
    "l = []\n",
    "print(l.__sizeof__())   # 空列表存储空间为40字节\n",
    "l.append(1)\n",
    "print(l.__sizeof__())   # 加入1后，列表分配可以存储4个元素的空间 （70-40）/8 = 4\n",
    "l.append(2)\n",
    "print(l.__sizeof__())\n",
    "l.append(3)\n",
    "print(l.__sizeof__())\n",
    "l.append(4)\n",
    "print(l.__sizeof__())\n",
    "l.append(5)\n",
    "print(l.__sizeof__())   # 加入5，列表空间不足，需额外分配可以存储4个元素的空间"
   ]
  },
  {
   "cell_type": "code",
   "execution_count": 7,
   "metadata": {},
   "outputs": [],
   "source": [
    "# 两种创建空列表的区别\n",
    "# 区别主要在于list()是一个function call，Python的function call会创建stack，并且进行# 一系列参数检查的操作，比较expensive，反观[]是一个内置的C函数，可以直接被调用，因此效# 率高。\n",
    "\n",
    "# empty_list = list()\n",
    "# empty_list_2 = []\n"
   ]
  },
  {
   "cell_type": "code",
   "execution_count": 8,
   "metadata": {},
   "outputs": [
    {
     "output_type": "execute_result",
     "data": {
      "text/plain": [
       "True"
      ]
     },
     "metadata": {},
     "execution_count": 8
    }
   ],
   "source": [
    "# dict and set\n",
    "# 字典的性能更优，特别是对于查找、添加和删除操作。字典都能在常数时间复杂度内完成\n",
    "# 区别在于集合没有键值对，是一系列无序的、唯一的元素组合\n",
    "d1 = {'name': 'jason', 'age': 20, 'gender': 'male'}\n",
    "d2 = dict({'name': 'jason', 'age': 20, 'gender': 'male'})\n",
    "d3 = dict([('name', 'jason'), ('age', 20), ('gender', 'male')])\n",
    "d4 = dict(name='jason', age=20, gender='male')\n",
    "d1 == d2 == d3 ==d4"
   ]
  },
  {
   "cell_type": "code",
   "execution_count": 9,
   "metadata": {},
   "outputs": [
    {
     "output_type": "execute_result",
     "data": {
      "text/plain": [
       "True"
      ]
     },
     "metadata": {},
     "execution_count": 9
    }
   ],
   "source": [
    "s1 = {1, 2, 3}\n",
    "s2 = set([1, 2, 3])\n",
    "s1 == s2"
   ]
  },
  {
   "cell_type": "code",
   "execution_count": 11,
   "metadata": {},
   "outputs": [
    {
     "output_type": "stream",
     "name": "stdout",
     "text": [
      "True\nFalse\nTrue\nFalse\n"
     ]
    }
   ],
   "source": [
    "# 集合并不支持索引操作，因为集合本质是一个哈希表，和列表一样\n",
    "print(1 in s1)\n",
    "print(4 in s1)\n",
    "s1.add(4)\n",
    "print(4 in s1)\n",
    "s1.remove(4)\n",
    "print(4 in s1)"
   ]
  },
  {
   "cell_type": "code",
   "execution_count": 12,
   "metadata": {},
   "outputs": [],
   "source": [
    "# 不同于其他数据结构，字典和集合的内部结构都是一张哈希表。对于字典而言，这张表存储了哈希值、键和值这3个元素。而对于集合而言，区别就是哈希表内没有键和值的配对，只有单一的元素了。插入、查找和删除的时间复杂度为O（1）\n",
    "# 字典在python3.7+ 是有序的数据结构，而集合是无序的。字典和集合通常运用在对元素的高效查找、去重等场景"
   ]
  },
  {
   "cell_type": "code",
   "execution_count": 14,
   "metadata": {},
   "outputs": [],
   "source": [
    "# python字符串是不可变的，每次改变字符串，往往需要O（n）的时间复杂度。\n",
    "# python2.5后，字符串拼接操作（str1 += str2）会先检测str1还有没有其他的引用。如果没有的话，会尝试原地扩充字符串buffer的大小，而不是重新分配一块内存来创建新的字符串并拷贝。所以时间复杂度就仅为O（n）\n",
    "s = ''\n",
    "for n in range(10000):\n",
    "    s += str(n)"
   ]
  },
  {
   "cell_type": "code",
   "execution_count": 22,
   "metadata": {},
   "outputs": [
    {
     "output_type": "stream",
     "name": "stdout",
     "text": [
      "100 : 0.0008474999995087273\n",
      "100 : 0.0002561999999670661\n",
      "100 : 6.590000066353241e-05\n",
      "10000 : 0.007062600000608654\n",
      "10000 : 0.004774300000462972\n",
      "10000 : 0.002546000000620552\n",
      "1000000 : 2.163005499999599\n",
      "1000000 : 0.28831799999989016\n",
      "1000000 : 0.22151579999990645\n"
     ]
    }
   ],
   "source": [
    "import time\n",
    "\n",
    "def func_perf(second:int):\n",
    "    start_time = time.perf_counter()\n",
    "    s = ''\n",
    "    for n in range(second):\n",
    "        s += str(n)\n",
    "    end_time = time.perf_counter()\n",
    "    print(f'{second} : {end_time - start_time}')\n",
    "\n",
    "    start_time = time.perf_counter()\n",
    "    l = []\n",
    "    for n in range(second):\n",
    "        l.append(str(n))\n",
    "    s = ''.join(l)\n",
    "    end_time = time.perf_counter()\n",
    "    print(f'{second} : {end_time - start_time}')\n",
    "\n",
    "    start_time = time.perf_counter()\n",
    "    s = \" \".join(map(str, range(second)))\n",
    "    end_time = time.perf_counter()\n",
    "    print(f'{second} : {end_time - start_time}')\n",
    "\n",
    "func_perf(100)\n",
    "func_perf(10000)\n",
    "func_perf(1000000)"
   ]
  },
  {
   "cell_type": "code",
   "execution_count": 52,
   "metadata": {},
   "outputs": [
    {
     "output_type": "execute_result",
     "data": {
      "text/plain": [
       "[('the', 103),\n",
       " ('of', 99),\n",
       " ('to', 59),\n",
       " ('and', 53),\n",
       " ('a', 37),\n",
       " ('we', 33),\n",
       " ('be', 33),\n",
       " ('will', 27),\n",
       " ('that', 24),\n",
       " ('is', 23)]"
      ]
     },
     "metadata": {},
     "execution_count": 52
    }
   ],
   "source": [
    "from collections import Counter\n",
    "import re\n",
    "\n",
    "def read_file(filename:str):\n",
    "    try:\n",
    "        words = []\n",
    "        with open(filename, 'r') as f:\n",
    "            while True:\n",
    "                line = f.readline()\n",
    "                if line:\n",
    "                    yield line\n",
    "                else:\n",
    "                    break\n",
    "    except:\n",
    "        raise Exception(f'{filename} not found')\n",
    "\n",
    "def parse(line:str):\n",
    "    text = re.sub(r'[^\\w]', ' ', line).lower()\n",
    "\n",
    "    words_list = text.split(' ')\n",
    "    words_list = filter(None, words_list)\n",
    "    return words_list\n",
    "\n",
    "def word_count(filename:str, most_common:int):\n",
    "    words_list = []\n",
    "    for line in read_file(filename):\n",
    "        words = parse(line)\n",
    "        words_list.extend(words)\n",
    "    return Counter(words_list).most_common(most_common)\n",
    "\n",
    "word_count('I_have_a_dream.txt', most_common=10)"
   ]
  },
  {
   "cell_type": "code",
   "execution_count": 49,
   "metadata": {},
   "outputs": [
    {
     "output_type": "stream",
     "name": "stdout",
     "text": [
      "0 the 103\n1 of 99\n2 to 59\n3 and 53\n4 a 37\n5 we 33\n6 be 33\n7 will 27\n8 that 24\n9 is 23\n"
     ]
    }
   ],
   "source": [
    "# 使用enumerate遍历集合，不仅返回每个元素，并且返回其对应索引\n",
    "word_count = [('the', 103),('of', 99),('to', 59),('and', 53),('a', 37),('we', 33),('be', 33),('will', 27),('that', 24),('is', 23)]\n",
    "for index, item in enumerate(word_count):\n",
    "    print(f'{index} {item[0]} {item[1]}')"
   ]
  },
  {
   "cell_type": "code",
   "execution_count": 53,
   "metadata": {},
   "outputs": [],
   "source": [
    "# 对比range（）和while循环的效率\n",
    "# range（）函数是直接由C语言写的，调用速度非常快\n",
    "# while循环中的“i += 1”操作，是通过python的解释器间接调用底层的C语言实现的，并且这个# 简单的操作又涉及到对象的创建和删除。（因为 i 是整型，是 immutable，i += 1 相当于 i # = new int(i + 1)）"
   ]
  },
  {
   "cell_type": "code",
   "execution_count": 54,
   "metadata": {},
   "outputs": [],
   "source": [
    "attributes = ['name', 'dob', 'gender']\n",
    "values = [['jason', '2000-01-01', 'male'],\n",
    "['mike', '1999-01-01', 'male'],\n",
    "['nancy', '2001-02-01', 'female']\n",
    "]\n"
   ]
  },
  {
   "cell_type": "code",
   "execution_count": 63,
   "metadata": {},
   "outputs": [
    {
     "output_type": "execute_result",
     "data": {
      "text/plain": [
       "[{'name': 'jason', 'dob': '2000-01-01', 'gender': 'male'},\n",
       " {'name': 'mike', 'dob': '1999-01-01', 'gender': 'male'},\n",
       " {'name': 'nancy', 'dob': '2001-02-01', 'gender': 'female'}]"
      ]
     },
     "metadata": {},
     "execution_count": 63
    }
   ],
   "source": [
    "[dict(zip(attributes, value)) for value in values]"
   ]
  },
  {
   "cell_type": "code",
   "execution_count": null,
   "metadata": {},
   "outputs": [],
   "source": [
    "# closure 闭包\n",
    "def nth_power(exponent):\n",
    "    def exponent_of(base):\n",
    "        return base * exponent\n",
    "    return exponent_of\n",
    "\n",
    "square = nth_power(2)\n",
    "cube = nth_power(3)\n",
    "\n",
    "print(square(2))\n",
    "print(cube(2))"
   ]
  },
  {
   "cell_type": "code",
   "execution_count": null,
   "metadata": {},
   "outputs": [],
   "source": []
  }
 ]
}